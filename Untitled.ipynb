{
 "cells": [
  {
   "cell_type": "code",
   "execution_count": 2,
   "id": "6adfd489",
   "metadata": {},
   "outputs": [
    {
     "name": "stdout",
     "output_type": "stream",
     "text": [
      "MENGHITUNG PERSEGI\n",
      "Masukkan Panjang: 12\n",
      "Masukkan Lebar: 21\n",
      "luas persegi panjang: 252.0\n",
      "keliling persegi panjang: 66.0\n"
     ]
    }
   ],
   "source": [
    "print(\"MENGHITUNG PERSEGI\")\n",
    "\n",
    "panjang = float(input(\"Masukkan Panjang: \"))\n",
    "lebar = float(input(\"Masukkan Lebar: \"))\n",
    "\n",
    "luas = panjang*lebar\n",
    "keliling = 2 * (panjang+lebar)\n",
    "\n",
    "print(\"luas persegi panjang:\" ,luas)\n",
    "print(\"keliling persegi panjang:\" ,keliling)"
   ]
  },
  {
   "cell_type": "code",
   "execution_count": null,
   "id": "01171c16",
   "metadata": {},
   "outputs": [],
   "source": [
    "print(\"PROGRAM KONVERSI SUHU\")\n",
    "\n",
    "celcius"
   ]
  }
 ],
 "metadata": {
  "kernelspec": {
   "display_name": "Python 3",
   "language": "python",
   "name": "python3"
  },
  "language_info": {
   "codemirror_mode": {
    "name": "ipython",
    "version": 3
   },
   "file_extension": ".py",
   "mimetype": "text/x-python",
   "name": "python",
   "nbconvert_exporter": "python",
   "pygments_lexer": "ipython3",
   "version": "3.8.8"
  }
 },
 "nbformat": 4,
 "nbformat_minor": 5
}
